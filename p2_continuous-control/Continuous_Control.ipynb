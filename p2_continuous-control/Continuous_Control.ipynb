{
 "cells": [
  {
   "cell_type": "markdown",
   "metadata": {},
   "source": [
    "# Continuous Control\n",
    "\n",
    "---\n",
    "\n",
    "In this notebook, you will learn how to use the Unity ML-Agents environment for the second project of the [Deep Reinforcement Learning Nanodegree](https://www.udacity.com/course/deep-reinforcement-learning-nanodegree--nd893) program.\n",
    "\n",
    "### 1. Start the 20-Agent Environment\n",
    "\n",
    "We begin by importing the necessary packages.  If the code cell below returns an error, please revisit the project instructions to double-check that you have installed [Unity ML-Agents](https://github.com/Unity-Technologies/ml-agents/blob/master/docs/Installation.md) and [NumPy](http://www.numpy.org/)."
   ]
  },
  {
   "cell_type": "code",
   "execution_count": 1,
   "metadata": {},
   "outputs": [],
   "source": [
    "from unityagents import UnityEnvironment\n",
    "import numpy as np"
   ]
  },
  {
   "cell_type": "markdown",
   "metadata": {},
   "source": [
    "Next, we will start the environment!  **_Before running the code cell below_**, change the `file_name` parameter to match the location of the Unity environment that you downloaded.\n",
    "\n",
    "- **Mac**: `\"path/to/Reacher.app\"`\n",
    "- **Windows** (x86): `\"path/to/Reacher_Windows_x86/Reacher.exe\"`\n",
    "- **Windows** (x86_64): `\"path/to/Reacher_Windows_x86_64/Reacher.exe\"`\n",
    "- **Linux** (x86): `\"path/to/Reacher_Linux/Reacher.x86\"`\n",
    "- **Linux** (x86_64): `\"path/to/Reacher_Linux/Reacher.x86_64\"`\n",
    "- **Linux** (x86, headless): `\"path/to/Reacher_Linux_NoVis/Reacher.x86\"`\n",
    "- **Linux** (x86_64, headless): `\"path/to/Reacher_Linux_NoVis/Reacher.x86_64\"`\n",
    "\n",
    "For instance, if you are using a Mac, then you downloaded `Reacher.app`.  If this file is in the same folder as the notebook, then the line below should appear as follows:\n",
    "```\n",
    "env = UnityEnvironment(file_name=\"Reacher.app\")\n",
    "```"
   ]
  },
  {
   "cell_type": "code",
   "execution_count": 2,
   "metadata": {},
   "outputs": [
    {
     "name": "stderr",
     "output_type": "stream",
     "text": [
      "INFO:unityagents:\n",
      "'Academy' started successfully!\n",
      "Unity Academy name: Academy\n",
      "        Number of Brains: 1\n",
      "        Number of External Brains : 1\n",
      "        Lesson number : 0\n",
      "        Reset Parameters :\n",
      "\t\tgoal_size -> 5.0\n",
      "\t\tgoal_speed -> 1.0\n",
      "Unity brain name: ReacherBrain\n",
      "        Number of Visual Observations (per agent): 0\n",
      "        Vector Observation space type: continuous\n",
      "        Vector Observation space size (per agent): 33\n",
      "        Number of stacked Vector Observation: 1\n",
      "        Vector Action space type: continuous\n",
      "        Vector Action space size (per agent): 4\n",
      "        Vector Action descriptions: , , , \n"
     ]
    }
   ],
   "source": [
    "env = UnityEnvironment(file_name='./Reacher_Linux/Reacher.x86_64', no_graphics=True)\n",
    "\n",
    "# Uncomment to enable graphics rendering\n",
    "# env = UnityEnvironment(file_name='./Reacher_Linux/Reacher.x86_64')"
   ]
  },
  {
   "cell_type": "markdown",
   "metadata": {},
   "source": [
    "Environments contain **_brains_** which are responsible for deciding the actions of their associated agents. Here we check for the first brain available, and set it as the default brain we will be controlling from Python."
   ]
  },
  {
   "cell_type": "code",
   "execution_count": 3,
   "metadata": {},
   "outputs": [],
   "source": [
    "# get the default brain\n",
    "brain_name = env.brain_names[0]\n",
    "brain = env.brains[brain_name]"
   ]
  },
  {
   "cell_type": "markdown",
   "metadata": {},
   "source": [
    "### 2. Examine the State and Action Spaces\n",
    "\n",
    "In this environment, a double-jointed arm can move to target locations. A reward of `+0.1` is provided for each step that the agent's hand is in the goal location. Thus, the goal of your agent is to maintain its position at the target location for as many time steps as possible.\n",
    "\n",
    "The observation space consists of `33` variables corresponding to position, rotation, velocity, and angular velocities of the arm.  Each action is a vector with four numbers, corresponding to torque applicable to two joints.  Every entry in the action vector must be a number between `-1` and `1`.\n",
    "\n",
    "Run the code cell below to print some information about the environment."
   ]
  },
  {
   "cell_type": "code",
   "execution_count": 4,
   "metadata": {},
   "outputs": [
    {
     "name": "stdout",
     "output_type": "stream",
     "text": [
      "Number of agents: 20\n",
      "Size of each action: 4\n",
      "There are 20 agents. Each observes a state with length: 33\n",
      "The state for the first agent looks like: [ 0.00000000e+00 -4.00000000e+00  0.00000000e+00  1.00000000e+00\n",
      " -0.00000000e+00 -0.00000000e+00 -4.37113883e-08  0.00000000e+00\n",
      "  0.00000000e+00  0.00000000e+00  0.00000000e+00  0.00000000e+00\n",
      "  0.00000000e+00  0.00000000e+00 -1.00000000e+01  0.00000000e+00\n",
      "  1.00000000e+00 -0.00000000e+00 -0.00000000e+00 -4.37113883e-08\n",
      "  0.00000000e+00  0.00000000e+00  0.00000000e+00  0.00000000e+00\n",
      "  0.00000000e+00  0.00000000e+00  5.75471878e+00 -1.00000000e+00\n",
      "  5.55726624e+00  0.00000000e+00  1.00000000e+00  0.00000000e+00\n",
      " -1.68164849e-01]\n"
     ]
    }
   ],
   "source": [
    "# reset the environment\n",
    "env_info = env.reset(train_mode=True)[brain_name]\n",
    "\n",
    "# number of agents\n",
    "num_agents = len(env_info.agents)\n",
    "print('Number of agents:', num_agents)\n",
    "\n",
    "# size of each action\n",
    "action_size = brain.vector_action_space_size\n",
    "print('Size of each action:', action_size)\n",
    "\n",
    "# examine the state space \n",
    "states = env_info.vector_observations\n",
    "state_size = states.shape[1]\n",
    "print('There are {} agents. Each observes a state with length: {}'.format(states.shape[0], state_size))\n",
    "print('The state for the first agent looks like:', states[0])"
   ]
  },
  {
   "cell_type": "markdown",
   "metadata": {},
   "source": [
    "When finished, you can close the environment."
   ]
  },
  {
   "cell_type": "code",
   "execution_count": null,
   "metadata": {},
   "outputs": [],
   "source": [
    "# Don't close if going to run code codeblock below\n",
    "# env.close()"
   ]
  },
  {
   "cell_type": "markdown",
   "metadata": {},
   "source": [
    "### 3. Train a 20-Agent Solution \n",
    "\n",
    "Now that we have an understanding of the environment, let's train an AI to solve it! For this we will use [Proximal Policy Optimization](https://arxiv.org/abs/1707.06347) in an actor-critic form and [Generalized Advantage Function](https://arxiv.org/abs/1506.02438).\n",
    "\n",
    "From command line, run:\n",
    "\n",
    "```bash\n",
    "python continuous_control_training_script.py --exp-name my_experiment --gae-lambda 0.9\n",
    "```\n",
    "\n",
    "A command line execution like this makes it easier to run multiple different experiments with various inputs without having to modify files.\n",
    "\n",
    "Below is copy of the code in `conintuous_control_training_script.py` so that it can be run in this notebook"
   ]
  },
  {
   "cell_type": "code",
   "execution_count": 5,
   "metadata": {},
   "outputs": [
    {
     "name": "stdout",
     "output_type": "stream",
     "text": [
      "Episode: 1, training batch: 16, score: 0.347000, policy loss: -0.094256, value loss: 0.000091\n",
      "Episode: 2, training batch: 32, score: 0.769500, policy loss: -0.080812, value loss: 0.000133\n",
      "Episode: 3, training batch: 48, score: 1.043500, policy loss: -0.072408, value loss: 0.000376\n",
      "Episode: 4, training batch: 64, score: 0.825500, policy loss: -0.061641, value loss: 0.000063\n",
      "Episode: 5, training batch: 80, score: 1.312500, policy loss: -0.051310, value loss: 0.000066\n",
      "Episode: 6, training batch: 96, score: 1.812000, policy loss: -0.045382, value loss: 0.000332\n",
      "Episode: 7, training batch: 112, score: 2.689500, policy loss: -0.040280, value loss: 0.000311\n",
      "Episode: 8, training batch: 128, score: 2.779000, policy loss: -0.034303, value loss: 0.000311\n",
      "Episode: 9, training batch: 144, score: 2.495000, policy loss: -0.028925, value loss: 0.000248\n",
      "Episode: 10, training batch: 160, score: 3.045500, policy loss: -0.030346, value loss: 0.000466\n",
      "Episode: 11, training batch: 176, score: 3.106500, policy loss: -0.021389, value loss: 0.000244\n",
      "Episode: 12, training batch: 192, score: 3.312500, policy loss: -0.024666, value loss: 0.000287\n",
      "Episode: 13, training batch: 208, score: 3.825000, policy loss: -0.020080, value loss: 0.000411\n",
      "Episode: 14, training batch: 224, score: 3.949000, policy loss: -0.018283, value loss: 0.000902\n",
      "Episode: 15, training batch: 240, score: 4.480000, policy loss: -0.010883, value loss: 0.000550\n",
      "Episode: 16, training batch: 256, score: 5.259000, policy loss: -0.010852, value loss: 0.000468\n",
      "Episode: 17, training batch: 272, score: 4.690000, policy loss: -0.005215, value loss: 0.000368\n",
      "Episode: 18, training batch: 288, score: 6.593000, policy loss: 0.001397, value loss: 0.000408\n",
      "Episode: 19, training batch: 304, score: 6.192000, policy loss: -0.010066, value loss: 0.000584\n",
      "Episode: 20, training batch: 320, score: 7.258000, policy loss: -0.013586, value loss: 0.000543\n",
      "Episode: 21, training batch: 336, score: 7.238000, policy loss: -0.002458, value loss: 0.000852\n",
      "Episode: 22, training batch: 352, score: 7.548000, policy loss: -0.004042, value loss: 0.000533\n",
      "Episode: 23, training batch: 368, score: 7.742500, policy loss: -0.008167, value loss: 0.000910\n",
      "Episode: 24, training batch: 384, score: 9.228000, policy loss: -0.011544, value loss: 0.000594\n",
      "Episode: 25, training batch: 400, score: 11.382000, policy loss: -0.006989, value loss: 0.001032\n",
      "Episode: 26, training batch: 416, score: 16.892000, policy loss: -0.005109, value loss: 0.001091\n",
      "Episode: 27, training batch: 432, score: 22.725499, policy loss: -0.008680, value loss: 0.000929\n",
      "Episode: 28, training batch: 448, score: 28.027499, policy loss: -0.002269, value loss: 0.000881\n",
      "Episode: 29, training batch: 464, score: 30.333999, policy loss: 0.001685, value loss: 0.000568\n",
      "Episode: 30, training batch: 480, score: 33.252999, policy loss: 0.000091, value loss: 0.000529\n",
      "Episode: 31, training batch: 496, score: 34.485499, policy loss: -0.003346, value loss: 0.000390\n",
      "Episode: 32, training batch: 512, score: 35.462999, policy loss: 0.000413, value loss: 0.000479\n",
      "Episode: 33, training batch: 528, score: 35.714999, policy loss: 0.001428, value loss: 0.000268\n",
      "Episode: 34, training batch: 544, score: 35.914499, policy loss: 0.001921, value loss: 0.000232\n",
      "Episode: 35, training batch: 560, score: 37.216499, policy loss: 0.001224, value loss: 0.000193\n",
      "Episode: 36, training batch: 576, score: 37.301999, policy loss: 0.005152, value loss: 0.000357\n",
      "Episode: 37, training batch: 592, score: 36.790999, policy loss: -0.001869, value loss: 0.000071\n",
      "Episode: 38, training batch: 608, score: 37.087499, policy loss: 0.001139, value loss: 0.000195\n",
      "Episode: 39, training batch: 624, score: 37.139499, policy loss: -0.002123, value loss: 0.000062\n",
      "Episode: 40, training batch: 640, score: 37.477499, policy loss: 0.001926, value loss: 0.000168\n",
      "Episode: 41, training batch: 656, score: 37.711999, policy loss: 0.000637, value loss: 0.000061\n",
      "Episode: 42, training batch: 672, score: 37.696499, policy loss: 0.001567, value loss: 0.000250\n",
      "Episode: 43, training batch: 688, score: 37.436499, policy loss: -0.001128, value loss: 0.000084\n",
      "Episode: 44, training batch: 704, score: 38.065499, policy loss: -0.000882, value loss: 0.000014\n",
      "Episode: 45, training batch: 720, score: 37.649499, policy loss: 0.000304, value loss: 0.000092\n",
      "Episode: 46, training batch: 736, score: 37.822999, policy loss: 0.002008, value loss: 0.000162\n",
      "Episode: 47, training batch: 752, score: 37.969999, policy loss: 0.001051, value loss: 0.000060\n",
      "Episode: 48, training batch: 768, score: 37.964999, policy loss: 0.004605, value loss: 0.000173\n",
      "Episode: 49, training batch: 784, score: 38.282499, policy loss: 0.002112, value loss: 0.000104\n",
      "Episode: 50, training batch: 800, score: 38.300499, policy loss: -0.000839, value loss: 0.000023\n",
      "Episode: 51, training batch: 816, score: 37.711999, policy loss: -0.004519, value loss: 0.000041\n",
      "Episode: 52, training batch: 832, score: 37.744499, policy loss: -0.001171, value loss: 0.000033\n",
      "Episode: 53, training batch: 848, score: 37.826499, policy loss: 0.006013, value loss: 0.000362\n",
      "Episode: 54, training batch: 864, score: 38.299499, policy loss: -0.000724, value loss: 0.000001\n",
      "Episode: 55, training batch: 880, score: 38.550999, policy loss: -0.001070, value loss: 0.000002\n",
      "Episode: 56, training batch: 896, score: 38.305499, policy loss: -0.001163, value loss: 0.000011\n",
      "Episode: 57, training batch: 912, score: 38.295499, policy loss: -0.000566, value loss: 0.000027\n",
      "Episode: 58, training batch: 928, score: 38.426999, policy loss: -0.001031, value loss: 0.000034\n",
      "Episode: 59, training batch: 944, score: 37.799499, policy loss: 0.000465, value loss: 0.000054\n",
      "Episode: 60, training batch: 960, score: 38.491999, policy loss: -0.001267, value loss: 0.000001\n",
      "Episode: 61, training batch: 976, score: 38.101499, policy loss: -0.000971, value loss: 0.000045\n",
      "Episode: 62, training batch: 992, score: 38.298999, policy loss: -0.001090, value loss: 0.000038\n",
      "Episode: 63, training batch: 1008, score: 38.307499, policy loss: -0.001375, value loss: 0.000037\n",
      "Episode: 64, training batch: 1024, score: 38.473999, policy loss: -0.004165, value loss: 0.000043\n",
      "Episode: 65, training batch: 1040, score: 38.284499, policy loss: 0.003094, value loss: 0.000279\n",
      "Episode: 66, training batch: 1056, score: 38.265499, policy loss: 0.000666, value loss: 0.000060\n",
      "Episode: 67, training batch: 1072, score: 38.355499, policy loss: 0.000832, value loss: 0.000128\n",
      "Episode: 68, training batch: 1088, score: 38.101999, policy loss: -0.001932, value loss: 0.000030\n",
      "Episode: 69, training batch: 1104, score: 37.839499, policy loss: -0.002557, value loss: 0.000090\n",
      "Episode: 70, training batch: 1120, score: 38.035999, policy loss: 0.000068, value loss: 0.000086\n",
      "Episode: 71, training batch: 1136, score: 37.984999, policy loss: 0.006688, value loss: 0.000308\n",
      "Episode: 72, training batch: 1152, score: 38.023499, policy loss: -0.000829, value loss: 0.000008\n",
      "Episode: 73, training batch: 1168, score: 38.609499, policy loss: -0.000438, value loss: 0.000014\n",
      "Episode: 74, training batch: 1184, score: 38.311999, policy loss: -0.000573, value loss: 0.000021\n",
      "Episode: 75, training batch: 1200, score: 38.014499, policy loss: 0.002341, value loss: 0.000114\n",
      "Episode: 76, training batch: 1216, score: 37.890999, policy loss: 0.001590, value loss: 0.000127\n",
      "Episode: 77, training batch: 1232, score: 38.251999, policy loss: 0.000509, value loss: 0.000135\n",
      "Episode: 78, training batch: 1248, score: 38.159499, policy loss: -0.001365, value loss: 0.000024\n",
      "Episode: 79, training batch: 1264, score: 38.150999, policy loss: 0.000029, value loss: 0.000039\n",
      "Episode: 80, training batch: 1280, score: 38.571999, policy loss: -0.000359, value loss: 0.000026\n",
      "Episode: 81, training batch: 1296, score: 38.354999, policy loss: 0.002134, value loss: 0.000127\n",
      "Episode: 82, training batch: 1312, score: 37.644999, policy loss: 0.005994, value loss: 0.000259\n",
      "Episode: 83, training batch: 1328, score: 37.582999, policy loss: 0.004199, value loss: 0.000338\n",
      "Episode: 84, training batch: 1344, score: 38.282499, policy loss: -0.001489, value loss: 0.000000\n",
      "Episode: 85, training batch: 1360, score: 37.656999, policy loss: 0.001395, value loss: 0.000118\n"
     ]
    },
    {
     "name": "stdout",
     "output_type": "stream",
     "text": [
      "Episode: 86, training batch: 1376, score: 37.904999, policy loss: 0.001363, value loss: 0.000108\n",
      "Episode: 87, training batch: 1392, score: 37.938999, policy loss: -0.001001, value loss: 0.000021\n",
      "Episode: 88, training batch: 1408, score: 38.358499, policy loss: 0.001351, value loss: 0.000090\n",
      "Episode: 89, training batch: 1424, score: 38.621999, policy loss: -0.001919, value loss: 0.000004\n",
      "Episode: 90, training batch: 1440, score: 37.809999, policy loss: -0.001368, value loss: 0.000001\n",
      "Episode: 91, training batch: 1456, score: 37.923499, policy loss: -0.001274, value loss: 0.000000\n",
      "Episode: 92, training batch: 1472, score: 38.284999, policy loss: -0.000876, value loss: 0.000008\n",
      "Episode: 93, training batch: 1488, score: 38.516999, policy loss: -0.000167, value loss: 0.000021\n",
      "Episode: 94, training batch: 1504, score: 38.511499, policy loss: 0.000537, value loss: 0.000059\n",
      "Episode: 95, training batch: 1520, score: 38.455999, policy loss: 0.000316, value loss: 0.000085\n",
      "Episode: 96, training batch: 1536, score: 37.414499, policy loss: 0.001058, value loss: 0.000076\n",
      "Episode: 97, training batch: 1552, score: 38.260999, policy loss: -0.002085, value loss: 0.000021\n",
      "Episode: 98, training batch: 1568, score: 38.403999, policy loss: 0.000385, value loss: 0.000052\n",
      "Episode: 99, training batch: 1584, score: 38.303499, policy loss: -0.001253, value loss: 0.000000\n",
      "Episode: 100, training batch: 1600, score: 38.257499, policy loss: -0.000525, value loss: 0.000043\n",
      "Episode: 101, training batch: 1616, score: 37.905499, policy loss: -0.000986, value loss: 0.000022\n",
      "Episode: 102, training batch: 1632, score: 37.493499, policy loss: 0.000116, value loss: 0.000146\n",
      "Episode: 103, training batch: 1648, score: 38.232999, policy loss: -0.002364, value loss: 0.000073\n",
      "\n",
      "Environment solved in 3 episodes!\tAverage Score: 30.03\n",
      "\n",
      "Continuing training...\n",
      "Episode: 104, training batch: 1664, score: 37.888999, policy loss: -0.003986, value loss: 0.000067\n",
      "Episode: 105, training batch: 1680, score: 38.682999, policy loss: -0.000524, value loss: 0.000040\n",
      "Episode: 106, training batch: 1696, score: 38.405999, policy loss: 0.000162, value loss: 0.000038\n",
      "Episode: 107, training batch: 1712, score: 38.228499, policy loss: -0.001383, value loss: 0.000008\n",
      "Episode: 108, training batch: 1728, score: 38.136999, policy loss: 0.001056, value loss: 0.000054\n",
      "Episode: 109, training batch: 1744, score: 38.209499, policy loss: -0.000972, value loss: 0.000000\n",
      "Episode: 110, training batch: 1760, score: 37.671999, policy loss: -0.001531, value loss: 0.000011\n",
      "Episode: 111, training batch: 1776, score: 37.985499, policy loss: -0.000822, value loss: 0.000008\n",
      "Episode: 112, training batch: 1792, score: 37.742999, policy loss: -0.001551, value loss: 0.000005\n",
      "Episode: 113, training batch: 1808, score: 37.221999, policy loss: -0.000207, value loss: 0.000085\n",
      "Episode: 114, training batch: 1824, score: 37.889499, policy loss: -0.000428, value loss: 0.000051\n",
      "Episode: 115, training batch: 1840, score: 38.153499, policy loss: 0.000362, value loss: 0.000067\n",
      "Episode: 116, training batch: 1856, score: 38.269999, policy loss: 0.002409, value loss: 0.000154\n",
      "Episode: 117, training batch: 1872, score: 38.698999, policy loss: -0.000883, value loss: 0.000029\n",
      "Episode: 118, training batch: 1888, score: 38.468499, policy loss: 0.001438, value loss: 0.000095\n",
      "Episode: 119, training batch: 1904, score: 38.418499, policy loss: 0.003997, value loss: 0.000145\n",
      "Episode: 120, training batch: 1920, score: 38.101999, policy loss: -0.001112, value loss: 0.000014\n",
      "Episode: 121, training batch: 1936, score: 38.486999, policy loss: -0.002601, value loss: 0.000117\n",
      "Episode: 122, training batch: 1952, score: 38.726999, policy loss: 0.001675, value loss: 0.000133\n",
      "Episode: 123, training batch: 1968, score: 38.329499, policy loss: 0.000642, value loss: 0.000106\n",
      "Episode: 124, training batch: 1984, score: 38.443999, policy loss: -0.001045, value loss: 0.000002\n",
      "Episode: 125, training batch: 2000, score: 37.300999, policy loss: -0.001658, value loss: 0.000007\n",
      "Episode: 126, training batch: 2016, score: 38.676499, policy loss: -0.001205, value loss: 0.000006\n",
      "Episode: 127, training batch: 2032, score: 38.215499, policy loss: 0.000514, value loss: 0.000117\n",
      "Episode: 128, training batch: 2048, score: 38.445999, policy loss: -0.001183, value loss: 0.000001\n",
      "Episode: 129, training batch: 2064, score: 38.031499, policy loss: -0.002375, value loss: 0.000003\n",
      "Episode: 130, training batch: 2080, score: 38.357499, policy loss: 0.000597, value loss: 0.000027\n",
      "Episode: 131, training batch: 2096, score: 38.713999, policy loss: -0.000944, value loss: 0.000000\n",
      "Episode: 132, training batch: 2112, score: 38.337499, policy loss: -0.002148, value loss: 0.000087\n",
      "Episode: 133, training batch: 2128, score: 38.414499, policy loss: -0.000434, value loss: 0.000044\n",
      "Episode: 134, training batch: 2144, score: 38.368499, policy loss: 0.000037, value loss: 0.000051\n",
      "Episode: 135, training batch: 2160, score: 37.976499, policy loss: -0.000945, value loss: 0.000039\n",
      "Episode: 136, training batch: 2176, score: 38.727499, policy loss: 0.004438, value loss: 0.000157\n",
      "Episode: 137, training batch: 2192, score: 38.626999, policy loss: 0.000936, value loss: 0.000154\n",
      "Episode: 138, training batch: 2208, score: 38.503999, policy loss: -0.002176, value loss: 0.000024\n",
      "Episode: 139, training batch: 2224, score: 38.444999, policy loss: -0.000592, value loss: 0.000000\n",
      "Episode: 140, training batch: 2240, score: 38.731499, policy loss: -0.001089, value loss: 0.000029\n",
      "Episode: 141, training batch: 2256, score: 38.564499, policy loss: -0.000356, value loss: 0.000055\n",
      "Episode: 142, training batch: 2272, score: 38.323499, policy loss: 0.000269, value loss: 0.000061\n",
      "Episode: 143, training batch: 2288, score: 38.584999, policy loss: -0.001806, value loss: 0.000053\n",
      "Episode: 144, training batch: 2304, score: 38.585499, policy loss: -0.001509, value loss: 0.000001\n",
      "Episode: 145, training batch: 2320, score: 38.566999, policy loss: -0.002335, value loss: 0.000023\n",
      "Episode: 146, training batch: 2336, score: 38.315999, policy loss: 0.001070, value loss: 0.000046\n",
      "Episode: 147, training batch: 2352, score: 38.360999, policy loss: 0.001164, value loss: 0.000084\n",
      "Episode: 148, training batch: 2368, score: 38.462999, policy loss: 0.002406, value loss: 0.000168\n",
      "Episode: 149, training batch: 2384, score: 38.484499, policy loss: -0.000806, value loss: 0.000002\n",
      "Episode: 150, training batch: 2400, score: 38.423499, policy loss: -0.001357, value loss: 0.000003\n",
      "Episode: 151, training batch: 2416, score: 38.547499, policy loss: -0.000959, value loss: 0.000000\n",
      "Episode: 152, training batch: 2432, score: 38.549499, policy loss: -0.000721, value loss: 0.000002\n",
      "Episode: 153, training batch: 2448, score: 38.731999, policy loss: -0.000934, value loss: 0.000001\n",
      "Episode: 154, training batch: 2464, score: 39.122499, policy loss: -0.001164, value loss: 0.000005\n",
      "Episode: 155, training batch: 2480, score: 37.928999, policy loss: 0.002102, value loss: 0.000125\n",
      "Episode: 156, training batch: 2496, score: 38.663999, policy loss: -0.000837, value loss: 0.000009\n",
      "Episode: 157, training batch: 2512, score: 38.702999, policy loss: -0.001277, value loss: 0.000000\n",
      "Episode: 158, training batch: 2528, score: 38.735999, policy loss: -0.000319, value loss: 0.000019\n",
      "Episode: 159, training batch: 2544, score: 38.210499, policy loss: 0.000176, value loss: 0.000076\n",
      "Episode: 160, training batch: 2560, score: 38.496999, policy loss: -0.000416, value loss: 0.000023\n",
      "Episode: 161, training batch: 2576, score: 38.928499, policy loss: -0.000195, value loss: 0.000020\n",
      "Episode: 162, training batch: 2592, score: 38.372999, policy loss: -0.001129, value loss: 0.000005\n",
      "Episode: 163, training batch: 2608, score: 38.454499, policy loss: 0.001551, value loss: 0.000130\n",
      "Episode: 164, training batch: 2624, score: 38.598499, policy loss: -0.000765, value loss: 0.000001\n",
      "Episode: 165, training batch: 2640, score: 38.277999, policy loss: -0.001537, value loss: 0.000035\n",
      "Episode: 166, training batch: 2656, score: 38.329999, policy loss: -0.000163, value loss: 0.000036\n",
      "Episode: 167, training batch: 2672, score: 38.050999, policy loss: -0.001142, value loss: 0.000059\n",
      "Episode: 168, training batch: 2688, score: 38.570999, policy loss: -0.001163, value loss: 0.000005\n"
     ]
    },
    {
     "name": "stdout",
     "output_type": "stream",
     "text": [
      "Episode: 169, training batch: 2704, score: 38.631999, policy loss: -0.000934, value loss: 0.000013\n",
      "Episode: 170, training batch: 2720, score: 39.008499, policy loss: -0.001029, value loss: 0.000000\n",
      "Episode: 171, training batch: 2736, score: 38.496999, policy loss: -0.000974, value loss: 0.000033\n",
      "Episode: 172, training batch: 2752, score: 38.662999, policy loss: -0.000867, value loss: 0.000000\n",
      "Episode: 173, training batch: 2768, score: 38.607999, policy loss: 0.001860, value loss: 0.000071\n",
      "Episode: 174, training batch: 2784, score: 38.108499, policy loss: -0.001932, value loss: 0.000002\n",
      "Episode: 175, training batch: 2800, score: 38.722999, policy loss: -0.000774, value loss: 0.000037\n",
      "Episode: 176, training batch: 2816, score: 38.531999, policy loss: -0.000972, value loss: 0.000067\n",
      "Episode: 177, training batch: 2832, score: 38.493499, policy loss: -0.001699, value loss: 0.000000\n",
      "Episode: 178, training batch: 2848, score: 38.475999, policy loss: -0.000625, value loss: 0.000063\n",
      "Episode: 179, training batch: 2864, score: 38.235999, policy loss: 0.002966, value loss: 0.000104\n",
      "Episode: 180, training batch: 2880, score: 37.925499, policy loss: -0.002407, value loss: 0.000031\n",
      "Episode: 181, training batch: 2896, score: 38.818499, policy loss: -0.001732, value loss: 0.000007\n",
      "Episode: 182, training batch: 2912, score: 38.396999, policy loss: -0.000831, value loss: 0.000017\n",
      "Episode: 183, training batch: 2928, score: 38.377499, policy loss: -0.001836, value loss: 0.000053\n",
      "Episode: 184, training batch: 2944, score: 38.315999, policy loss: -0.001463, value loss: 0.000060\n",
      "Episode: 185, training batch: 2960, score: 38.117499, policy loss: -0.001774, value loss: 0.000008\n",
      "Episode: 186, training batch: 2976, score: 38.515999, policy loss: 0.000092, value loss: 0.000038\n",
      "Episode: 187, training batch: 2992, score: 38.668999, policy loss: -0.001013, value loss: 0.000035\n",
      "Episode: 188, training batch: 3008, score: 38.808499, policy loss: -0.001224, value loss: 0.000000\n",
      "Episode: 189, training batch: 3024, score: 38.529499, policy loss: -0.000925, value loss: 0.000000\n",
      "Episode: 190, training batch: 3040, score: 38.457499, policy loss: -0.002934, value loss: 0.000025\n",
      "Episode: 191, training batch: 3056, score: 38.811999, policy loss: -0.001884, value loss: 0.000020\n",
      "Episode: 192, training batch: 3072, score: 39.098499, policy loss: 0.000010, value loss: 0.000048\n",
      "Episode: 193, training batch: 3088, score: 38.477999, policy loss: -0.001503, value loss: 0.000016\n",
      "Episode: 194, training batch: 3104, score: 38.662499, policy loss: -0.000867, value loss: 0.000002\n",
      "Episode: 195, training batch: 3120, score: 39.089499, policy loss: -0.001412, value loss: 0.000005\n",
      "Episode: 196, training batch: 3136, score: 38.315499, policy loss: 0.000287, value loss: 0.000102\n",
      "Episode: 197, training batch: 3152, score: 38.933499, policy loss: -0.000986, value loss: 0.000008\n",
      "Episode: 198, training batch: 3168, score: 38.828499, policy loss: -0.001036, value loss: 0.000002\n",
      "Episode: 199, training batch: 3184, score: 38.644999, policy loss: -0.002200, value loss: 0.000017\n",
      "Episode: 200, training batch: 3200, score: 38.693499, policy loss: -0.000500, value loss: 0.000014\n"
     ]
    }
   ],
   "source": [
    "from continuous_control_brain_agent import ActorCriticMind, train_actor_critic_mind\n",
    "\n",
    "gae_lambda = 0.9\n",
    "exp_name = \"my_experiment\"\n",
    "\n",
    "# create environment (already initialized in notebook)\n",
    "# env = UnityEnvironment(file_name='./Reacher_Linux/Reacher.x86_64', no_graphics=True)\n",
    "\n",
    "# create a learning agent ('mind')\n",
    "brain_name = env.brain_names[0]\n",
    "ppo_mind = ActorCriticMind(\n",
    "    brain_name, \n",
    "    env.brains[brain_name], \n",
    "    policy_lr=2e-4, \n",
    "    value_lr=1e-3)\n",
    "\n",
    "# get number of agents\n",
    "env_info = env.reset(train_mode=True)[brain_name]\n",
    "n_agents = len(env_info.agents)\n",
    "\n",
    "# run training\n",
    "train_actor_critic_mind(env, ppo_mind, n_agents,\n",
    "    n_episodes = 200,\n",
    "    save_rate = 1,\n",
    "    n_epochs = 4,\n",
    "    desired_batch_size = 64,\n",
    "    desired_minibatch_size = 16,\n",
    "    gamma = 0.9,\n",
    "    lam = gae_lambda,\n",
    "    prefix = exp_name,\n",
    "    beta_start = 0.1, beta_end = 0.0005, beta_decay = 0.99,\n",
    "    epsilon_start=0.3, epsilon_end=0.1, epsilon_decay = 0.99,\n",
    "    v_epsilon_start=0.3, v_epsilon_end=0.1, v_epsilon_decay=0.99)\n",
    "\n",
    "# clean up\n",
    "env.close()"
   ]
  },
  {
   "cell_type": "markdown",
   "metadata": {},
   "source": [
    "### 4. Analyze Results\n",
    "\n",
    "Once training data is generated and stored, we can plot the results and visualize the trained agents. The training scores are saved in `*_scores.pkl` files and the trained networks are stored in `*_policy_checkpoint.pth` files. \n",
    "\n",
    "#### Plottting Learning Curves\n",
    "\n",
    "Assuming your experiments are saved in the same directory as this code (which they will be by default), you can To plot the results from multiple training experiments side-by-side using this command line in the terminal\n",
    "```bash\n",
    "python training_analysis.py my_experiment_1_scores.pkl my_experiment_2_scores.pkl my_experiment_3_scores.pkl\n",
    "```\n",
    "Below is code that runs an equivalent command as the command line input"
   ]
  },
  {
   "cell_type": "code",
   "execution_count": 10,
   "metadata": {},
   "outputs": [
    {
     "name": "stderr",
     "output_type": "stream",
     "text": [
      "/home/ross/miniconda2/envs/public_drlnd/lib/python3.6/site-packages/numpy/core/fromnumeric.py:3257: RuntimeWarning: Mean of empty slice.\n",
      "  out=out, **kwargs)\n",
      "/home/ross/miniconda2/envs/public_drlnd/lib/python3.6/site-packages/numpy/core/_methods.py:161: RuntimeWarning: invalid value encountered in double_scalars\n",
      "  ret = ret.dtype.type(ret / rcount)\n"
     ]
    },
    {
     "data": {
      "image/png": "[encoded data removed]",
      "text/plain": [
       "<Figure size 432x288 with 1 Axes>"
      ]
     },
     "metadata": {
      "needs_background": "light"
     },
     "output_type": "display_data"
    },
    {
     "name": "stderr",
     "output_type": "stream",
     "text": [
      "/home/ross/miniconda2/envs/public_drlnd/lib/python3.6/site-packages/IPython/core/pylabtools.py:128: UserWarning: Creating legend with loc=\"best\" can be slow with large amounts of data.\n",
      "  fig.canvas.print_figure(bytes_io, **kw)\n"
     ]
    },
    {
     "data": {
      "image/png": "[encoded data removed]",
      "text/plain": [
       "<Figure size 432x288 with 1 Axes>"
      ]
     },
     "metadata": {
      "needs_background": "light"
     },
     "output_type": "display_data"
    }
   ],
   "source": [
    "from training_analysis import plot_actor_critic_results\n",
    "\n",
    "plot_actor_critic_results(\n",
    "    algorithm_results_list=[\"my_experiment_scores.pkl\"], \n",
    "    window_len=10,\n",
    "    plt_title=\"Continuous Control Learning Curves\\nfor PPO-GAE with various lambda values\")"
   ]
  },
  {
   "cell_type": "markdown",
   "metadata": {},
   "source": []
  },
  {
   "cell_type": "code",
   "execution_count": null,
   "metadata": {},
   "outputs": [],
   "source": []
  }
 ],
 "metadata": {
  "kernelspec": {
   "display_name": "Python 3",
   "language": "python",
   "name": "python3"
  },
  "language_info": {
   "codemirror_mode": {
    "name": "ipython",
    "version": 3
   },
   "file_extension": ".py",
   "mimetype": "text/x-python",
   "name": "python",
   "nbconvert_exporter": "python",
   "pygments_lexer": "ipython3",
   "version": "3.6.9"
  }
 },
 "nbformat": 4,
 "nbformat_minor": 2
}
