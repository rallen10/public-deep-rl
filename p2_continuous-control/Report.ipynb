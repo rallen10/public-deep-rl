{
 "cells": [
  {
   "cell_type": "markdown",
   "metadata": {},
   "source": [
    "# Report: Continuous Control Project\n",
    "\n",
    "\n",
    "## Learning Algorithm\n",
    "\n",
    "### Execution Notebook: `Continuous_Control.ipynb`\n",
    "\n",
    "### Source Code and Model Architecture \n",
    "\n",
    "### Data Files\n",
    "\n",
    "### Hyperparameters\n",
    "\n",
    "## Plot of Rewards\n",
    "\n",
    "## Ideas for Future Work"
   ]
  },
  {
   "cell_type": "code",
   "execution_count": null,
   "metadata": {},
   "outputs": [],
   "source": []
  }
 ],
 "metadata": {
  "kernelspec": {
   "display_name": "Python 3",
   "language": "python",
   "name": "python3"
  },
  "language_info": {
   "codemirror_mode": {
    "name": "ipython",
    "version": 3
   },
   "file_extension": ".py",
   "mimetype": "text/x-python",
   "name": "python",
   "nbconvert_exporter": "python",
   "pygments_lexer": "ipython3",
   "version": "3.6.9"
  }
 },
 "nbformat": 4,
 "nbformat_minor": 2
}
