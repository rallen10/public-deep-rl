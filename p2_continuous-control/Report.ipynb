{
 "cells": [
  {
   "cell_type": "markdown",
   "metadata": {},
   "source": [
    "[//]: # (Image References)\n",
    "\n",
    "[image1]: learning_curves.png \"Learning Curves for Proximal Policy Optimization with Generalized Advantage Estimation\"\n",
    "\n",
    "# Report: Continuous Control Project\n",
    "\n",
    "This work trains simulated robotic arms to track a dynamic target position for their end effector. The environment has a continuous state space, representing orientations and rates of arm joints, as well as a continuous action space, representing torques applied to arm joints. For training, this work uses [proximal policy optimization (PPO)](https://arxiv.org/pdf/1707.06347.pdf) in an actor-critic form and a [generalized advantage estimate (GAE)](https://arxiv.org/pdf/1506.02438.pdf). Two deep neural networks are trained: one for the stochastic policy that maps the robots state to actions, and one for the value function that estimates the expected returns from a given state of the robot. "
   ]
  },
  {
   "cell_type": "markdown",
   "metadata": {},
   "source": [
    "## Learning Algorithm\n",
    "\n",
    "As previosly mentioned, this work uses PPO for policy training and GAE for advantage estimation. \n",
    "\n",
    "(DISCUSS PPO SURROGATE FUNCTION AND VALUE LOSS FUNCTION)"
   ]
  },
  {
   "cell_type": "markdown",
   "metadata": {},
   "source": [
    "### Execution Notebook: `Continuous_Control.ipynb`\n",
    "\n",
    "### Source Code and Model Architecture \n",
    "\n",
    "### Data Files\n",
    "\n",
    "### Hyperparameters\n",
    "\n",
    "## Plot of Rewards\n",
    "\n",
    "![PPO-GAE Learning Curves][image1]\n",
    "\n",
    "## Ideas for Future Work"
   ]
  },
  {
   "cell_type": "code",
   "execution_count": null,
   "metadata": {},
   "outputs": [],
   "source": []
  }
 ],
 "metadata": {
  "kernelspec": {
   "display_name": "Python 3",
   "language": "python",
   "name": "python3"
  },
  "language_info": {
   "codemirror_mode": {
    "name": "ipython",
    "version": 3
   },
   "file_extension": ".py",
   "mimetype": "text/x-python",
   "name": "python",
   "nbconvert_exporter": "python",
   "pygments_lexer": "ipython3",
   "version": "3.6.9"
  }
 },
 "nbformat": 4,
 "nbformat_minor": 2
}
